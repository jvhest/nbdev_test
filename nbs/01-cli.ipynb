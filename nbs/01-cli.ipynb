{
 "cells": [
  {
   "cell_type": "code",
   "execution_count": null,
   "id": "96f8220c",
   "metadata": {},
   "outputs": [],
   "source": [
    "# default_exp cli"
   ]
  },
  {
   "cell_type": "markdown",
   "id": "f61cd48d",
   "metadata": {},
   "source": [
    "# cli"
   ]
  },
  {
   "cell_type": "code",
   "execution_count": null,
   "id": "1ab04aae",
   "metadata": {},
   "outputs": [],
   "source": [
    "#hide\n",
    "from nbdev.showdoc import *\n",
    "import sys\n",
    "sys.path.append('/home/jvh/code/python/nbdev_test')"
   ]
  },
  {
   "cell_type": "code",
   "execution_count": null,
   "id": "7da948cd",
   "metadata": {},
   "outputs": [],
   "source": [
    "#export\n",
    "import os\n",
    "import click\n",
    "\n",
    "from nbdev_test.functions import generate_epub_name, move_epub, move_all_epubs\n",
    "\n",
    "\n",
    "@click.command()\n",
    "@click.argument(\"epub\")\n",
    "@click.argument(\"dest\")\n",
    "def main(epub: str, dest: str):\n",
    "    if os.path.isdir(dest):\n",
    "        if os.path.isfile(epub):\n",
    "            status, new_book_title = move_epub(epub, dest)\n",
    "            if status:\n",
    "                print(f\"1 epub moved: {new_book_title}\")\n",
    "        elif os.path.isdir(epub):\n",
    "            move_all_epubs(epub, dest)\n",
    "        else:\n",
    "            print(f\"invalid source file or directory: {epub}\")\n",
    "    else:\n",
    "        print(f\"invalid destination directory: {dest}\")\n"
   ]
  },
  {
   "cell_type": "code",
   "execution_count": null,
   "id": "caa06dd9",
   "metadata": {},
   "outputs": [
    {
     "data": {
      "text/plain": [
       "'Redesigning AI - Daron Acemoglu[2021].epub'"
      ]
     },
     "execution_count": null,
     "metadata": {},
     "output_type": "execute_result"
    }
   ],
   "source": [
    "#test\n",
    "epub_path = \"/home/jvh/Public/naar_calibre/ict/divers/bb-ai.for.good.epub\"\n",
    "destination = \"/home/jvh/Public/naar_calibre/ict/divers/temp\"\n",
    "generate_epub_name(epub_path)"
   ]
  },
  {
   "cell_type": "code",
   "execution_count": null,
   "id": "d9354366",
   "metadata": {},
   "outputs": [],
   "source": []
  }
 ],
 "metadata": {
  "kernelspec": {
   "display_name": "Python 3 (ipykernel)",
   "language": "python",
   "name": "python3"
  }
 },
 "nbformat": 4,
 "nbformat_minor": 5
}
