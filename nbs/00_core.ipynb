{
 "cells": [
  {
   "cell_type": "code",
   "execution_count": null,
   "metadata": {},
   "outputs": [],
   "source": [
    "# default_exp functions"
   ]
  },
  {
   "cell_type": "markdown",
   "metadata": {},
   "source": [
    "# functions\n",
    "\n"
   ]
  },
  {
   "cell_type": "code",
   "execution_count": null,
   "metadata": {},
   "outputs": [],
   "source": [
    "#hide\n",
    "from nbdev.showdoc import *"
   ]
  },
  {
   "cell_type": "code",
   "execution_count": null,
   "metadata": {},
   "outputs": [],
   "source": [
    "#export\n",
    "import os\n",
    "import zipfile\n",
    "import shutil\n",
    "from typing import Tuple\n",
    "\n",
    "DEBUG = False"
   ]
  },
  {
   "cell_type": "code",
   "execution_count": null,
   "metadata": {},
   "outputs": [],
   "source": [
    "#export\n",
    "def extract_field(buffer: str, query: str) -> str:\n",
    "    \"\"\"\n",
    "    Buffer is an xml string. Search for :query: in buffer.\n",
    "    The query should be a part of opening tag starting\n",
    "    with < like <dc:title.\n",
    "    If found the containing value of the tag will be returned.\n",
    "    If not found empty string is returned.\n",
    "    \"\"\"\n",
    "    field_value = \"\"\n",
    "    pos = buffer.find(query)\n",
    "    if pos >= 0:\n",
    "        in_field = False\n",
    "        for c in buffer[(pos + 1):]:\n",
    "            if c == \"<\":\n",
    "                break\n",
    "            if in_field:\n",
    "                field_value += c\n",
    "            if c == \">\":\n",
    "                in_field = True\n",
    "    return field_value"
   ]
  },
  {
   "cell_type": "code",
   "execution_count": null,
   "metadata": {},
   "outputs": [],
   "source": [
    "#export\n",
    "def read_opf_file(epub_path: str) -> str:\n",
    "    \"\"\"\n",
    "    Read and return the content of the *.opf file in epub \"file-system\".\n",
    "    If no *.opf file in epub return empty string.\n",
    "    \"\"\"\n",
    "    if not os.path.exists(epub_path):\n",
    "        raise FileNotFoundError\n",
    "        \n",
    "    with zipfile.ZipFile(epub_path) as myzip:\n",
    "        opf_fname = None\n",
    "        for fn in myzip.namelist():\n",
    "            if fn.endswith(\".opf\"):\n",
    "                opf_fname = fn\n",
    "                break\n",
    "\n",
    "        if not opf_fname:\n",
    "            print(f\"{os.path.split(epub_path)[1]} has no *.opf file\")\n",
    "            return \"\"\n",
    "\n",
    "        with myzip.open(opf_fname) as myfile:\n",
    "            return myfile.read().decode()"
   ]
  },
  {
   "cell_type": "code",
   "execution_count": null,
   "metadata": {},
   "outputs": [],
   "source": [
    "#test\n",
    "epub_path = \"/home/jvh/Public/naar_calibre/ict/divers/bb-ai.for.good.epub\"\n",
    "content = read_opf_file(epub_path)\n",
    "assert len(content) > 0"
   ]
  },
  {
   "cell_type": "code",
   "execution_count": null,
   "metadata": {},
   "outputs": [],
   "source": [
    "epub_path = \"/home/jvh/Public/naar_calibre/ict/divers/bb-ai.for.good.epub\"\n",
    "content = read_opf_file(epub_path)\n",
    "assert len(content) > 0"
   ]
  },
  {
   "cell_type": "code",
   "execution_count": null,
   "metadata": {},
   "outputs": [],
   "source": [
    "#export\n",
    "def get_title(buffer):\n",
    "    return extract_field(buffer, \"<dc:title\")"
   ]
  },
  {
   "cell_type": "code",
   "execution_count": null,
   "metadata": {},
   "outputs": [],
   "source": [
    "#export\n",
    "def get_author(buffer):\n",
    "    creator = extract_field(buffer, \"<dc:creator\")\n",
    "    if not creator:\n",
    "        creator = extract_field(buffer, \"<creator\")\n",
    "    return creator"
   ]
  },
  {
   "cell_type": "code",
   "execution_count": null,
   "metadata": {},
   "outputs": [],
   "source": [
    "#export\n",
    "def get_date(buffer):\n",
    "    date = extract_field(buffer, \"<dc:date\")\n",
    "    if not date:\n",
    "        date = extract_field(buffer, '<meta property=\"dcterms:modified\"')\n",
    "    if len(date) > 4:\n",
    "        return date[:4]"
   ]
  },
  {
   "cell_type": "code",
   "execution_count": null,
   "metadata": {},
   "outputs": [],
   "source": [
    "#export\n",
    "def create_book_title(buffer: str) -> str:\n",
    "    \"\"\"\n",
    "    Returns a new name for the epub based on title, author and date.\n",
    "    If title cannot be found then empty string will be returned\n",
    "    \"\"\"\n",
    "    if DEBUG:\n",
    "        lines = buffer.split(\"\\r\")\n",
    "        for line in lines:\n",
    "            print(line.strip())\n",
    "\n",
    "    title = get_title(buffer)\n",
    "    author = get_author(buffer)\n",
    "    date = get_date(buffer)\n",
    "\n",
    "    new_book_title = \"\"\n",
    "    if title:\n",
    "        new_book_title = (\n",
    "            title\n",
    "            + (\" - \" + author if author else \"\")\n",
    "            + (\"[\" + date + \"]\" if date else \"\")\n",
    "            + \".epub\"\n",
    "        )\n",
    "        for character in \"/\":\n",
    "            new_book_title = new_book_title.replace(character, \"*\")\n",
    "\n",
    "    return new_book_title"
   ]
  },
  {
   "cell_type": "code",
   "execution_count": null,
   "metadata": {},
   "outputs": [],
   "source": [
    "#export\n",
    "def get_all_epubs(folder: str) -> list[str]:\n",
    "    \"\"\"\n",
    "    returns list with abs. path to all epubs in folder\n",
    "    \"\"\"\n",
    "    epubs = [\n",
    "        os.path.join(folder, fname)\n",
    "        for fname in os.listdir(folder)\n",
    "        if os.path.isfile(os.path.join(folder, fname)) and fname.endswith(\".epub\")\n",
    "    ]\n",
    "    print(f\"aantal epubs in {folder} is {len(epubs)}\\n\")\n",
    "    return epubs"
   ]
  },
  {
   "cell_type": "code",
   "execution_count": null,
   "metadata": {},
   "outputs": [],
   "source": [
    "#export\n",
    "def generate_epub_name(epub_path: str) -> str:\n",
    "    \"\"\"\n",
    "    generate epub name for :epub_path: based on content of .opf file\n",
    "    \"\"\"\n",
    "    try:\n",
    "        buffer = read_opf_file(epub_path)\n",
    "    except FileNotFoundError:\n",
    "        return \"\"\n",
    "\n",
    "    if not buffer:\n",
    "        return \"\"\n",
    "    else:\n",
    "        new_book_title = create_book_title(buffer)\n",
    "        new_book_title = new_book_title if new_book_title else \"\"\n",
    "    return new_book_title"
   ]
  },
  {
   "cell_type": "code",
   "execution_count": null,
   "metadata": {},
   "outputs": [],
   "source": [
    "#test\n",
    "epub_path = \"/home/jvh/Public/naar_calibre/ict/divers/bb-ai.for.good.epub\"\n",
    "new_name = generate_epub_name(epub_path)\n",
    "assert new_name == \"Redesigning AI - Daron Acemoglu[2021].epub\""
   ]
  },
  {
   "cell_type": "code",
   "execution_count": null,
   "metadata": {},
   "outputs": [],
   "source": [
    "#export\n",
    "def move_epub(epub_path: str, backup_folder: str) -> Tuple[int, str]:\n",
    "    \"\"\"\n",
    "    find new book title for :epub: in :folder: and copy\n",
    "    the epubs with new book title to :backup_folder:\n",
    "    \"\"\"\n",
    "    folder, epub = os.path.split()\n",
    "    \n",
    "    new_epub_name = generate_epub_name(epub_path)\n",
    "    if new_epub_name == \"\":\n",
    "        print(f\"{epub_path} not moved\")\n",
    "        return False\n",
    "\n",
    "    new_epub_backupname = os.path.join(backup_folder, new_epub_name)\n",
    "    \n",
    "    if not os.path.exists(new_epub_backupname):\n",
    "        try:\n",
    "            shutil.copy(epub_path, new_epub_backupname)\n",
    "\n",
    "        except shutil.SameFileError:\n",
    "            print(f\"{new_epub}\")\n",
    "            print(\"Source and destination represents the same file.\")\n",
    "\n",
    "        except PermissionError:\n",
    "            print(f\"{new_epub}\")\n",
    "            print(\"Permission denied.\")\n",
    "\n",
    "        except:\n",
    "            print(f\"{new_epub}\")\n",
    "            print(\"Error occurred while copying file.\")\n",
    "\n",
    "    else:\n",
    "        print(f\"target exists: {os.path.split(new_epub)[1]}\")\n",
    "        print(f\"source -> {os.path.split(epub)[1]}\")\n",
    "\n",
    "    return new_book_title"
   ]
  },
  {
   "cell_type": "code",
   "execution_count": null,
   "metadata": {},
   "outputs": [],
   "source": [
    "#export\n",
    "def move_all_epubs(source_folder: str, backup_folder: str):\n",
    "    \"\"\"\n",
    "    create new book title for first :count: epubs in :folder: and copy\n",
    "    the epubs with new book title to :backup_folder:\n",
    "    \"\"\"\n",
    "    epubs = get_all_epubs(source_folder)\n",
    "\n",
    "    copied_epubs = {}\n",
    "    copied = 0\n",
    "    for epub in epubs:\n",
    "        status, new_book_title = move_epub(epub, backup_folder)\n",
    "        copied += status\n",
    "\n",
    "        if new_book_title in copied_epubs:\n",
    "            print(f\"source -> {copied_epubs[new_book_title]}\\n\")\n",
    "        else:\n",
    "            copied_epubs[new_book_title] = os.path.split(epub)[1]\n",
    "\n",
    "    print(f\"aantal epubs copied to backupfolder: {copied}\")"
   ]
  },
  {
   "cell_type": "code",
   "execution_count": null,
   "metadata": {},
   "outputs": [],
   "source": [
    "#test\n",
    "my_path = \"/home/jvh/Public/naar_calibre/ict/divers\"\n",
    "# move_all_epubs(my_path, my_path + \"/temp\")\n",
    "# move_epub(my_path + \"/bb-ai.for.good.epub\", my_path + \"/temp\")"
   ]
  },
  {
   "cell_type": "code",
   "execution_count": null,
   "metadata": {},
   "outputs": [],
   "source": []
  }
 ],
 "metadata": {
  "kernelspec": {
   "display_name": "Python 3 (ipykernel)",
   "language": "python",
   "name": "python3"
  }
 },
 "nbformat": 4,
 "nbformat_minor": 2
}
